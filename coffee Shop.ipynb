{
 "cells": [
  {
   "cell_type": "code",
   "execution_count": 1,
   "id": "a35b3b3f-52e0-48d7-961c-e69771c7a534",
   "metadata": {},
   "outputs": [],
   "source": [
    "import pandas as pd\n",
    "import numpy as np\n",
    "import matplotlib.pyplot as plt"
   ]
  },
  {
   "cell_type": "code",
   "execution_count": 2,
   "id": "b88daad8-9395-4dce-bedf-b755341e7f0e",
   "metadata": {},
   "outputs": [],
   "source": [
    "data = pd.read_excel(\"Coffee Shop Sales.xlsx\")"
   ]
  },
  {
   "cell_type": "markdown",
   "id": "9497a83f-812f-4bd9-a5ef-1b0bff3d5386",
   "metadata": {},
   "source": [
    "# data cleaning"
   ]
  },
  {
   "cell_type": "code",
   "execution_count": 3,
   "id": "5c1fe2f3-cdb2-4adf-ab39-d72bf9a82abf",
   "metadata": {},
   "outputs": [
    {
     "data": {
      "text/plain": [
       "transaction_id      0\n",
       "transaction_date    0\n",
       "transaction_time    0\n",
       "transaction_qty     0\n",
       "store_id            0\n",
       "store_location      0\n",
       "product_id          0\n",
       "unit_price          0\n",
       "product_category    0\n",
       "product_type        0\n",
       "product_detail      0\n",
       "dtype: int64"
      ]
     },
     "execution_count": 3,
     "metadata": {},
     "output_type": "execute_result"
    }
   ],
   "source": [
    "data.isnull().sum()"
   ]
  },
  {
   "cell_type": "code",
   "execution_count": 4,
   "id": "1ab5b751-5289-4597-82a4-81590f7ca968",
   "metadata": {},
   "outputs": [
    {
     "name": "stdout",
     "output_type": "stream",
     "text": [
      "<class 'pandas.core.frame.DataFrame'>\n",
      "RangeIndex: 149116 entries, 0 to 149115\n",
      "Data columns (total 11 columns):\n",
      " #   Column            Non-Null Count   Dtype         \n",
      "---  ------            --------------   -----         \n",
      " 0   transaction_id    149116 non-null  int64         \n",
      " 1   transaction_date  149116 non-null  datetime64[ns]\n",
      " 2   transaction_time  149116 non-null  object        \n",
      " 3   transaction_qty   149116 non-null  int64         \n",
      " 4   store_id          149116 non-null  int64         \n",
      " 5   store_location    149116 non-null  object        \n",
      " 6   product_id        149116 non-null  int64         \n",
      " 7   unit_price        149116 non-null  float64       \n",
      " 8   product_category  149116 non-null  object        \n",
      " 9   product_type      149116 non-null  object        \n",
      " 10  product_detail    149116 non-null  object        \n",
      "dtypes: datetime64[ns](1), float64(1), int64(4), object(5)\n",
      "memory usage: 12.5+ MB\n"
     ]
    }
   ],
   "source": [
    "data.info()"
   ]
  },
  {
   "cell_type": "code",
   "execution_count": 5,
   "id": "506c542f-2bde-4826-94f2-eef52b9f3e46",
   "metadata": {},
   "outputs": [
    {
     "data": {
      "text/html": [
       "<div>\n",
       "<style scoped>\n",
       "    .dataframe tbody tr th:only-of-type {\n",
       "        vertical-align: middle;\n",
       "    }\n",
       "\n",
       "    .dataframe tbody tr th {\n",
       "        vertical-align: top;\n",
       "    }\n",
       "\n",
       "    .dataframe thead th {\n",
       "        text-align: right;\n",
       "    }\n",
       "</style>\n",
       "<table border=\"1\" class=\"dataframe\">\n",
       "  <thead>\n",
       "    <tr style=\"text-align: right;\">\n",
       "      <th></th>\n",
       "      <th>transaction_id</th>\n",
       "      <th>transaction_date</th>\n",
       "      <th>transaction_qty</th>\n",
       "      <th>store_id</th>\n",
       "      <th>product_id</th>\n",
       "      <th>unit_price</th>\n",
       "    </tr>\n",
       "  </thead>\n",
       "  <tbody>\n",
       "    <tr>\n",
       "      <th>count</th>\n",
       "      <td>149116.000000</td>\n",
       "      <td>149116</td>\n",
       "      <td>149116.000000</td>\n",
       "      <td>149116.000000</td>\n",
       "      <td>149116.000000</td>\n",
       "      <td>149116.000000</td>\n",
       "    </tr>\n",
       "    <tr>\n",
       "      <th>mean</th>\n",
       "      <td>74737.371872</td>\n",
       "      <td>2023-04-15 11:50:32.173609984</td>\n",
       "      <td>1.438276</td>\n",
       "      <td>5.342063</td>\n",
       "      <td>47.918607</td>\n",
       "      <td>3.382219</td>\n",
       "    </tr>\n",
       "    <tr>\n",
       "      <th>min</th>\n",
       "      <td>1.000000</td>\n",
       "      <td>2023-01-01 00:00:00</td>\n",
       "      <td>1.000000</td>\n",
       "      <td>3.000000</td>\n",
       "      <td>1.000000</td>\n",
       "      <td>0.800000</td>\n",
       "    </tr>\n",
       "    <tr>\n",
       "      <th>25%</th>\n",
       "      <td>37335.750000</td>\n",
       "      <td>2023-03-06 00:00:00</td>\n",
       "      <td>1.000000</td>\n",
       "      <td>3.000000</td>\n",
       "      <td>33.000000</td>\n",
       "      <td>2.500000</td>\n",
       "    </tr>\n",
       "    <tr>\n",
       "      <th>50%</th>\n",
       "      <td>74727.500000</td>\n",
       "      <td>2023-04-24 00:00:00</td>\n",
       "      <td>1.000000</td>\n",
       "      <td>5.000000</td>\n",
       "      <td>47.000000</td>\n",
       "      <td>3.000000</td>\n",
       "    </tr>\n",
       "    <tr>\n",
       "      <th>75%</th>\n",
       "      <td>112094.250000</td>\n",
       "      <td>2023-05-30 00:00:00</td>\n",
       "      <td>2.000000</td>\n",
       "      <td>8.000000</td>\n",
       "      <td>60.000000</td>\n",
       "      <td>3.750000</td>\n",
       "    </tr>\n",
       "    <tr>\n",
       "      <th>max</th>\n",
       "      <td>149456.000000</td>\n",
       "      <td>2023-06-30 00:00:00</td>\n",
       "      <td>8.000000</td>\n",
       "      <td>8.000000</td>\n",
       "      <td>87.000000</td>\n",
       "      <td>45.000000</td>\n",
       "    </tr>\n",
       "    <tr>\n",
       "      <th>std</th>\n",
       "      <td>43153.600016</td>\n",
       "      <td>NaN</td>\n",
       "      <td>0.542509</td>\n",
       "      <td>2.074241</td>\n",
       "      <td>17.930020</td>\n",
       "      <td>2.658723</td>\n",
       "    </tr>\n",
       "  </tbody>\n",
       "</table>\n",
       "</div>"
      ],
      "text/plain": [
       "       transaction_id               transaction_date  transaction_qty  \\\n",
       "count   149116.000000                         149116    149116.000000   \n",
       "mean     74737.371872  2023-04-15 11:50:32.173609984         1.438276   \n",
       "min          1.000000            2023-01-01 00:00:00         1.000000   \n",
       "25%      37335.750000            2023-03-06 00:00:00         1.000000   \n",
       "50%      74727.500000            2023-04-24 00:00:00         1.000000   \n",
       "75%     112094.250000            2023-05-30 00:00:00         2.000000   \n",
       "max     149456.000000            2023-06-30 00:00:00         8.000000   \n",
       "std      43153.600016                            NaN         0.542509   \n",
       "\n",
       "            store_id     product_id     unit_price  \n",
       "count  149116.000000  149116.000000  149116.000000  \n",
       "mean        5.342063      47.918607       3.382219  \n",
       "min         3.000000       1.000000       0.800000  \n",
       "25%         3.000000      33.000000       2.500000  \n",
       "50%         5.000000      47.000000       3.000000  \n",
       "75%         8.000000      60.000000       3.750000  \n",
       "max         8.000000      87.000000      45.000000  \n",
       "std         2.074241      17.930020       2.658723  "
      ]
     },
     "execution_count": 5,
     "metadata": {},
     "output_type": "execute_result"
    }
   ],
   "source": [
    "data.describe()"
   ]
  },
  {
   "cell_type": "code",
   "execution_count": 77,
   "id": "affa7382-0aea-498b-b24c-57bffa5c649d",
   "metadata": {},
   "outputs": [],
   "source": [
    "data['month']=data['transaction_date'].dt.month_name(locale='English')\n",
    "data['day'] = data[\"transaction_date\"].dt.day_name(locale = \"english\")"
   ]
  },
  {
   "cell_type": "code",
   "execution_count": 78,
   "id": "d958d817-e22e-413a-a4b2-eaa6147760a9",
   "metadata": {},
   "outputs": [
    {
     "data": {
      "text/html": [
       "<div>\n",
       "<style scoped>\n",
       "    .dataframe tbody tr th:only-of-type {\n",
       "        vertical-align: middle;\n",
       "    }\n",
       "\n",
       "    .dataframe tbody tr th {\n",
       "        vertical-align: top;\n",
       "    }\n",
       "\n",
       "    .dataframe thead th {\n",
       "        text-align: right;\n",
       "    }\n",
       "</style>\n",
       "<table border=\"1\" class=\"dataframe\">\n",
       "  <thead>\n",
       "    <tr style=\"text-align: right;\">\n",
       "      <th></th>\n",
       "      <th>transaction_id</th>\n",
       "      <th>transaction_date</th>\n",
       "      <th>transaction_time</th>\n",
       "      <th>transaction_qty</th>\n",
       "      <th>store_id</th>\n",
       "      <th>store_location</th>\n",
       "      <th>product_id</th>\n",
       "      <th>unit_price</th>\n",
       "      <th>product_category</th>\n",
       "      <th>product_type</th>\n",
       "      <th>product_detail</th>\n",
       "      <th>month</th>\n",
       "      <th>hours</th>\n",
       "      <th>total_price</th>\n",
       "      <th>Size</th>\n",
       "      <th>day</th>\n",
       "    </tr>\n",
       "  </thead>\n",
       "  <tbody>\n",
       "    <tr>\n",
       "      <th>0</th>\n",
       "      <td>1</td>\n",
       "      <td>2023-01-01</td>\n",
       "      <td>07:06:11</td>\n",
       "      <td>2</td>\n",
       "      <td>5</td>\n",
       "      <td>Lower Manhattan</td>\n",
       "      <td>32</td>\n",
       "      <td>3.00</td>\n",
       "      <td>Coffee</td>\n",
       "      <td>Gourmet brewed coffee</td>\n",
       "      <td>Ethiopia</td>\n",
       "      <td>January</td>\n",
       "      <td>7</td>\n",
       "      <td>6.00</td>\n",
       "      <td>Ragular</td>\n",
       "      <td>Sunday</td>\n",
       "    </tr>\n",
       "    <tr>\n",
       "      <th>1</th>\n",
       "      <td>2</td>\n",
       "      <td>2023-01-01</td>\n",
       "      <td>07:08:56</td>\n",
       "      <td>2</td>\n",
       "      <td>5</td>\n",
       "      <td>Lower Manhattan</td>\n",
       "      <td>57</td>\n",
       "      <td>3.10</td>\n",
       "      <td>Tea</td>\n",
       "      <td>Brewed Chai tea</td>\n",
       "      <td>Spicy Eye Opener Chai</td>\n",
       "      <td>January</td>\n",
       "      <td>7</td>\n",
       "      <td>6.20</td>\n",
       "      <td>Large</td>\n",
       "      <td>Sunday</td>\n",
       "    </tr>\n",
       "    <tr>\n",
       "      <th>2</th>\n",
       "      <td>3</td>\n",
       "      <td>2023-01-01</td>\n",
       "      <td>07:14:04</td>\n",
       "      <td>2</td>\n",
       "      <td>5</td>\n",
       "      <td>Lower Manhattan</td>\n",
       "      <td>59</td>\n",
       "      <td>4.50</td>\n",
       "      <td>Drinking Chocolate</td>\n",
       "      <td>Hot chocolate</td>\n",
       "      <td>Dark chocolate</td>\n",
       "      <td>January</td>\n",
       "      <td>7</td>\n",
       "      <td>9.00</td>\n",
       "      <td>Large</td>\n",
       "      <td>Sunday</td>\n",
       "    </tr>\n",
       "    <tr>\n",
       "      <th>3</th>\n",
       "      <td>4</td>\n",
       "      <td>2023-01-01</td>\n",
       "      <td>07:20:24</td>\n",
       "      <td>1</td>\n",
       "      <td>5</td>\n",
       "      <td>Lower Manhattan</td>\n",
       "      <td>22</td>\n",
       "      <td>2.00</td>\n",
       "      <td>Coffee</td>\n",
       "      <td>Drip coffee</td>\n",
       "      <td>Our Old Time Diner Blend</td>\n",
       "      <td>January</td>\n",
       "      <td>7</td>\n",
       "      <td>2.00</td>\n",
       "      <td>Small</td>\n",
       "      <td>Sunday</td>\n",
       "    </tr>\n",
       "    <tr>\n",
       "      <th>4</th>\n",
       "      <td>5</td>\n",
       "      <td>2023-01-01</td>\n",
       "      <td>07:22:41</td>\n",
       "      <td>2</td>\n",
       "      <td>5</td>\n",
       "      <td>Lower Manhattan</td>\n",
       "      <td>57</td>\n",
       "      <td>3.10</td>\n",
       "      <td>Tea</td>\n",
       "      <td>Brewed Chai tea</td>\n",
       "      <td>Spicy Eye Opener Chai</td>\n",
       "      <td>January</td>\n",
       "      <td>7</td>\n",
       "      <td>6.20</td>\n",
       "      <td>Large</td>\n",
       "      <td>Sunday</td>\n",
       "    </tr>\n",
       "    <tr>\n",
       "      <th>...</th>\n",
       "      <td>...</td>\n",
       "      <td>...</td>\n",
       "      <td>...</td>\n",
       "      <td>...</td>\n",
       "      <td>...</td>\n",
       "      <td>...</td>\n",
       "      <td>...</td>\n",
       "      <td>...</td>\n",
       "      <td>...</td>\n",
       "      <td>...</td>\n",
       "      <td>...</td>\n",
       "      <td>...</td>\n",
       "      <td>...</td>\n",
       "      <td>...</td>\n",
       "      <td>...</td>\n",
       "      <td>...</td>\n",
       "    </tr>\n",
       "    <tr>\n",
       "      <th>149111</th>\n",
       "      <td>149452</td>\n",
       "      <td>2023-06-30</td>\n",
       "      <td>20:18:41</td>\n",
       "      <td>2</td>\n",
       "      <td>8</td>\n",
       "      <td>Hell's Kitchen</td>\n",
       "      <td>44</td>\n",
       "      <td>2.50</td>\n",
       "      <td>Tea</td>\n",
       "      <td>Brewed herbal tea</td>\n",
       "      <td>Peppermint</td>\n",
       "      <td>June</td>\n",
       "      <td>20</td>\n",
       "      <td>5.00</td>\n",
       "      <td>Ragular</td>\n",
       "      <td>Friday</td>\n",
       "    </tr>\n",
       "    <tr>\n",
       "      <th>149112</th>\n",
       "      <td>149453</td>\n",
       "      <td>2023-06-30</td>\n",
       "      <td>20:25:10</td>\n",
       "      <td>2</td>\n",
       "      <td>8</td>\n",
       "      <td>Hell's Kitchen</td>\n",
       "      <td>49</td>\n",
       "      <td>3.00</td>\n",
       "      <td>Tea</td>\n",
       "      <td>Brewed Black tea</td>\n",
       "      <td>English Breakfast</td>\n",
       "      <td>June</td>\n",
       "      <td>20</td>\n",
       "      <td>6.00</td>\n",
       "      <td>Large</td>\n",
       "      <td>Friday</td>\n",
       "    </tr>\n",
       "    <tr>\n",
       "      <th>149113</th>\n",
       "      <td>149454</td>\n",
       "      <td>2023-06-30</td>\n",
       "      <td>20:31:34</td>\n",
       "      <td>1</td>\n",
       "      <td>8</td>\n",
       "      <td>Hell's Kitchen</td>\n",
       "      <td>45</td>\n",
       "      <td>3.00</td>\n",
       "      <td>Tea</td>\n",
       "      <td>Brewed herbal tea</td>\n",
       "      <td>Peppermint</td>\n",
       "      <td>June</td>\n",
       "      <td>20</td>\n",
       "      <td>3.00</td>\n",
       "      <td>Large</td>\n",
       "      <td>Friday</td>\n",
       "    </tr>\n",
       "    <tr>\n",
       "      <th>149114</th>\n",
       "      <td>149455</td>\n",
       "      <td>2023-06-30</td>\n",
       "      <td>20:57:19</td>\n",
       "      <td>1</td>\n",
       "      <td>8</td>\n",
       "      <td>Hell's Kitchen</td>\n",
       "      <td>40</td>\n",
       "      <td>3.75</td>\n",
       "      <td>Coffee</td>\n",
       "      <td>Barista Espresso</td>\n",
       "      <td>Cappuccino</td>\n",
       "      <td>June</td>\n",
       "      <td>20</td>\n",
       "      <td>3.75</td>\n",
       "      <td>medium</td>\n",
       "      <td>Friday</td>\n",
       "    </tr>\n",
       "    <tr>\n",
       "      <th>149115</th>\n",
       "      <td>149456</td>\n",
       "      <td>2023-06-30</td>\n",
       "      <td>20:57:19</td>\n",
       "      <td>2</td>\n",
       "      <td>8</td>\n",
       "      <td>Hell's Kitchen</td>\n",
       "      <td>64</td>\n",
       "      <td>0.80</td>\n",
       "      <td>Flavours</td>\n",
       "      <td>Regular syrup</td>\n",
       "      <td>Hazelnut syrup</td>\n",
       "      <td>June</td>\n",
       "      <td>20</td>\n",
       "      <td>1.60</td>\n",
       "      <td>medium</td>\n",
       "      <td>Friday</td>\n",
       "    </tr>\n",
       "  </tbody>\n",
       "</table>\n",
       "<p>149116 rows × 16 columns</p>\n",
       "</div>"
      ],
      "text/plain": [
       "        transaction_id transaction_date transaction_time  transaction_qty  \\\n",
       "0                    1       2023-01-01         07:06:11                2   \n",
       "1                    2       2023-01-01         07:08:56                2   \n",
       "2                    3       2023-01-01         07:14:04                2   \n",
       "3                    4       2023-01-01         07:20:24                1   \n",
       "4                    5       2023-01-01         07:22:41                2   \n",
       "...                ...              ...              ...              ...   \n",
       "149111          149452       2023-06-30         20:18:41                2   \n",
       "149112          149453       2023-06-30         20:25:10                2   \n",
       "149113          149454       2023-06-30         20:31:34                1   \n",
       "149114          149455       2023-06-30         20:57:19                1   \n",
       "149115          149456       2023-06-30         20:57:19                2   \n",
       "\n",
       "        store_id   store_location  product_id  unit_price    product_category  \\\n",
       "0              5  Lower Manhattan          32        3.00              Coffee   \n",
       "1              5  Lower Manhattan          57        3.10                 Tea   \n",
       "2              5  Lower Manhattan          59        4.50  Drinking Chocolate   \n",
       "3              5  Lower Manhattan          22        2.00              Coffee   \n",
       "4              5  Lower Manhattan          57        3.10                 Tea   \n",
       "...          ...              ...         ...         ...                 ...   \n",
       "149111         8   Hell's Kitchen          44        2.50                 Tea   \n",
       "149112         8   Hell's Kitchen          49        3.00                 Tea   \n",
       "149113         8   Hell's Kitchen          45        3.00                 Tea   \n",
       "149114         8   Hell's Kitchen          40        3.75              Coffee   \n",
       "149115         8   Hell's Kitchen          64        0.80            Flavours   \n",
       "\n",
       "                 product_type            product_detail    month  hours  \\\n",
       "0       Gourmet brewed coffee                  Ethiopia  January      7   \n",
       "1             Brewed Chai tea     Spicy Eye Opener Chai  January      7   \n",
       "2               Hot chocolate            Dark chocolate  January      7   \n",
       "3                 Drip coffee  Our Old Time Diner Blend  January      7   \n",
       "4             Brewed Chai tea     Spicy Eye Opener Chai  January      7   \n",
       "...                       ...                       ...      ...    ...   \n",
       "149111      Brewed herbal tea                Peppermint     June     20   \n",
       "149112       Brewed Black tea         English Breakfast     June     20   \n",
       "149113      Brewed herbal tea                Peppermint     June     20   \n",
       "149114       Barista Espresso                Cappuccino     June     20   \n",
       "149115          Regular syrup            Hazelnut syrup     June     20   \n",
       "\n",
       "        total_price     Size     day  \n",
       "0              6.00  Ragular  Sunday  \n",
       "1              6.20    Large  Sunday  \n",
       "2              9.00    Large  Sunday  \n",
       "3              2.00    Small  Sunday  \n",
       "4              6.20    Large  Sunday  \n",
       "...             ...      ...     ...  \n",
       "149111         5.00  Ragular  Friday  \n",
       "149112         6.00    Large  Friday  \n",
       "149113         3.00    Large  Friday  \n",
       "149114         3.75   medium  Friday  \n",
       "149115         1.60   medium  Friday  \n",
       "\n",
       "[149116 rows x 16 columns]"
      ]
     },
     "execution_count": 78,
     "metadata": {},
     "output_type": "execute_result"
    }
   ],
   "source": [
    "data"
   ]
  },
  {
   "cell_type": "code",
   "execution_count": 7,
   "id": "de878301-752f-4558-a401-35d2b62d074c",
   "metadata": {},
   "outputs": [],
   "source": [
    "data['transaction_time']= data['transaction_time'].astype(str)\n",
    "#data['hours'] = data['transaction_time'].str.split().str[0]"
   ]
  },
  {
   "cell_type": "code",
   "execution_count": 8,
   "id": "654805fd-598f-4b01-842a-9d9d39554a8b",
   "metadata": {},
   "outputs": [],
   "source": [
    "data['hours'] = data['transaction_time'].str.split(\":\").str[0]"
   ]
  },
  {
   "cell_type": "code",
   "execution_count": 9,
   "id": "49fb9fa7-a104-4728-956d-81e7b6b8908d",
   "metadata": {},
   "outputs": [],
   "source": [
    "data['hours']  =data['hours'].astype(int) "
   ]
  },
  {
   "cell_type": "code",
   "execution_count": 10,
   "id": "b6743be6-62a4-40ef-b1d5-cc53bceaba1e",
   "metadata": {},
   "outputs": [
    {
     "data": {
      "text/plain": [
       "array(['Lower Manhattan', \"Hell's Kitchen\", 'Astoria'], dtype=object)"
      ]
     },
     "execution_count": 10,
     "metadata": {},
     "output_type": "execute_result"
    }
   ],
   "source": [
    "data['store_location'].unique()"
   ]
  },
  {
   "cell_type": "code",
   "execution_count": 11,
   "id": "9acab5b9-f91e-4b63-a077-f8373d67fcd3",
   "metadata": {},
   "outputs": [
    {
     "data": {
      "text/plain": [
       "array(['Gourmet brewed coffee', 'Brewed Chai tea', 'Hot chocolate',\n",
       "       'Drip coffee', 'Scone', 'Barista Espresso', 'Brewed Black tea',\n",
       "       'Brewed Green tea', 'Brewed herbal tea', 'Biscotti', 'Pastry',\n",
       "       'Organic brewed coffee', 'Premium brewed coffee', 'Regular syrup',\n",
       "       'Herbal tea', 'Gourmet Beans', 'Organic Beans', 'Sugar free syrup',\n",
       "       'Drinking Chocolate', 'Premium Beans', 'Chai tea', 'Green beans',\n",
       "       'Espresso Beans', 'Green tea', 'Organic Chocolate', 'Housewares',\n",
       "       'Black tea', 'House blend Beans', 'Clothing'], dtype=object)"
      ]
     },
     "execution_count": 11,
     "metadata": {},
     "output_type": "execute_result"
    }
   ],
   "source": [
    "data[\"product_type\"].unique() "
   ]
  },
  {
   "cell_type": "code",
   "execution_count": 12,
   "id": "5d2a892a-c021-4952-b373-bf186490dfd5",
   "metadata": {},
   "outputs": [
    {
     "data": {
      "text/plain": [
       "'def extract_type(p_type):\\n    if \"tea\" in p_type:\\n        return \"tea\"\\ndata[\"product_type\"] = data[\"product_type\"].apply(extract_type)    '"
      ]
     },
     "execution_count": 12,
     "metadata": {},
     "output_type": "execute_result"
    }
   ],
   "source": [
    "'''def extract_type(p_type):\n",
    "    if \"tea\" in p_type:\n",
    "        return \"tea\"\n",
    "data[\"product_type\"] = data[\"product_type\"].apply(extract_type)    ''' "
   ]
  },
  {
   "cell_type": "code",
   "execution_count": 13,
   "id": "8b7636f8-decb-402a-acc8-20e7b4577c93",
   "metadata": {},
   "outputs": [
    {
     "data": {
      "text/html": [
       "<div>\n",
       "<style scoped>\n",
       "    .dataframe tbody tr th:only-of-type {\n",
       "        vertical-align: middle;\n",
       "    }\n",
       "\n",
       "    .dataframe tbody tr th {\n",
       "        vertical-align: top;\n",
       "    }\n",
       "\n",
       "    .dataframe thead th {\n",
       "        text-align: right;\n",
       "    }\n",
       "</style>\n",
       "<table border=\"1\" class=\"dataframe\">\n",
       "  <thead>\n",
       "    <tr style=\"text-align: right;\">\n",
       "      <th></th>\n",
       "      <th>transaction_id</th>\n",
       "      <th>transaction_date</th>\n",
       "      <th>transaction_time</th>\n",
       "      <th>transaction_qty</th>\n",
       "      <th>store_id</th>\n",
       "      <th>store_location</th>\n",
       "      <th>product_id</th>\n",
       "      <th>unit_price</th>\n",
       "      <th>product_category</th>\n",
       "      <th>product_type</th>\n",
       "      <th>product_detail</th>\n",
       "      <th>month</th>\n",
       "      <th>hours</th>\n",
       "    </tr>\n",
       "  </thead>\n",
       "  <tbody>\n",
       "    <tr>\n",
       "      <th>0</th>\n",
       "      <td>1</td>\n",
       "      <td>2023-01-01</td>\n",
       "      <td>07:06:11</td>\n",
       "      <td>2</td>\n",
       "      <td>5</td>\n",
       "      <td>Lower Manhattan</td>\n",
       "      <td>32</td>\n",
       "      <td>3.00</td>\n",
       "      <td>Coffee</td>\n",
       "      <td>Gourmet brewed coffee</td>\n",
       "      <td>Ethiopia Rg</td>\n",
       "      <td>January</td>\n",
       "      <td>7</td>\n",
       "    </tr>\n",
       "    <tr>\n",
       "      <th>1</th>\n",
       "      <td>2</td>\n",
       "      <td>2023-01-01</td>\n",
       "      <td>07:08:56</td>\n",
       "      <td>2</td>\n",
       "      <td>5</td>\n",
       "      <td>Lower Manhattan</td>\n",
       "      <td>57</td>\n",
       "      <td>3.10</td>\n",
       "      <td>Tea</td>\n",
       "      <td>Brewed Chai tea</td>\n",
       "      <td>Spicy Eye Opener Chai Lg</td>\n",
       "      <td>January</td>\n",
       "      <td>7</td>\n",
       "    </tr>\n",
       "    <tr>\n",
       "      <th>2</th>\n",
       "      <td>3</td>\n",
       "      <td>2023-01-01</td>\n",
       "      <td>07:14:04</td>\n",
       "      <td>2</td>\n",
       "      <td>5</td>\n",
       "      <td>Lower Manhattan</td>\n",
       "      <td>59</td>\n",
       "      <td>4.50</td>\n",
       "      <td>Drinking Chocolate</td>\n",
       "      <td>Hot chocolate</td>\n",
       "      <td>Dark chocolate Lg</td>\n",
       "      <td>January</td>\n",
       "      <td>7</td>\n",
       "    </tr>\n",
       "    <tr>\n",
       "      <th>3</th>\n",
       "      <td>4</td>\n",
       "      <td>2023-01-01</td>\n",
       "      <td>07:20:24</td>\n",
       "      <td>1</td>\n",
       "      <td>5</td>\n",
       "      <td>Lower Manhattan</td>\n",
       "      <td>22</td>\n",
       "      <td>2.00</td>\n",
       "      <td>Coffee</td>\n",
       "      <td>Drip coffee</td>\n",
       "      <td>Our Old Time Diner Blend Sm</td>\n",
       "      <td>January</td>\n",
       "      <td>7</td>\n",
       "    </tr>\n",
       "    <tr>\n",
       "      <th>4</th>\n",
       "      <td>5</td>\n",
       "      <td>2023-01-01</td>\n",
       "      <td>07:22:41</td>\n",
       "      <td>2</td>\n",
       "      <td>5</td>\n",
       "      <td>Lower Manhattan</td>\n",
       "      <td>57</td>\n",
       "      <td>3.10</td>\n",
       "      <td>Tea</td>\n",
       "      <td>Brewed Chai tea</td>\n",
       "      <td>Spicy Eye Opener Chai Lg</td>\n",
       "      <td>January</td>\n",
       "      <td>7</td>\n",
       "    </tr>\n",
       "    <tr>\n",
       "      <th>...</th>\n",
       "      <td>...</td>\n",
       "      <td>...</td>\n",
       "      <td>...</td>\n",
       "      <td>...</td>\n",
       "      <td>...</td>\n",
       "      <td>...</td>\n",
       "      <td>...</td>\n",
       "      <td>...</td>\n",
       "      <td>...</td>\n",
       "      <td>...</td>\n",
       "      <td>...</td>\n",
       "      <td>...</td>\n",
       "      <td>...</td>\n",
       "    </tr>\n",
       "    <tr>\n",
       "      <th>149111</th>\n",
       "      <td>149452</td>\n",
       "      <td>2023-06-30</td>\n",
       "      <td>20:18:41</td>\n",
       "      <td>2</td>\n",
       "      <td>8</td>\n",
       "      <td>Hell's Kitchen</td>\n",
       "      <td>44</td>\n",
       "      <td>2.50</td>\n",
       "      <td>Tea</td>\n",
       "      <td>Brewed herbal tea</td>\n",
       "      <td>Peppermint Rg</td>\n",
       "      <td>June</td>\n",
       "      <td>20</td>\n",
       "    </tr>\n",
       "    <tr>\n",
       "      <th>149112</th>\n",
       "      <td>149453</td>\n",
       "      <td>2023-06-30</td>\n",
       "      <td>20:25:10</td>\n",
       "      <td>2</td>\n",
       "      <td>8</td>\n",
       "      <td>Hell's Kitchen</td>\n",
       "      <td>49</td>\n",
       "      <td>3.00</td>\n",
       "      <td>Tea</td>\n",
       "      <td>Brewed Black tea</td>\n",
       "      <td>English Breakfast Lg</td>\n",
       "      <td>June</td>\n",
       "      <td>20</td>\n",
       "    </tr>\n",
       "    <tr>\n",
       "      <th>149113</th>\n",
       "      <td>149454</td>\n",
       "      <td>2023-06-30</td>\n",
       "      <td>20:31:34</td>\n",
       "      <td>1</td>\n",
       "      <td>8</td>\n",
       "      <td>Hell's Kitchen</td>\n",
       "      <td>45</td>\n",
       "      <td>3.00</td>\n",
       "      <td>Tea</td>\n",
       "      <td>Brewed herbal tea</td>\n",
       "      <td>Peppermint Lg</td>\n",
       "      <td>June</td>\n",
       "      <td>20</td>\n",
       "    </tr>\n",
       "    <tr>\n",
       "      <th>149114</th>\n",
       "      <td>149455</td>\n",
       "      <td>2023-06-30</td>\n",
       "      <td>20:57:19</td>\n",
       "      <td>1</td>\n",
       "      <td>8</td>\n",
       "      <td>Hell's Kitchen</td>\n",
       "      <td>40</td>\n",
       "      <td>3.75</td>\n",
       "      <td>Coffee</td>\n",
       "      <td>Barista Espresso</td>\n",
       "      <td>Cappuccino</td>\n",
       "      <td>June</td>\n",
       "      <td>20</td>\n",
       "    </tr>\n",
       "    <tr>\n",
       "      <th>149115</th>\n",
       "      <td>149456</td>\n",
       "      <td>2023-06-30</td>\n",
       "      <td>20:57:19</td>\n",
       "      <td>2</td>\n",
       "      <td>8</td>\n",
       "      <td>Hell's Kitchen</td>\n",
       "      <td>64</td>\n",
       "      <td>0.80</td>\n",
       "      <td>Flavours</td>\n",
       "      <td>Regular syrup</td>\n",
       "      <td>Hazelnut syrup</td>\n",
       "      <td>June</td>\n",
       "      <td>20</td>\n",
       "    </tr>\n",
       "  </tbody>\n",
       "</table>\n",
       "<p>149116 rows × 13 columns</p>\n",
       "</div>"
      ],
      "text/plain": [
       "        transaction_id transaction_date transaction_time  transaction_qty  \\\n",
       "0                    1       2023-01-01         07:06:11                2   \n",
       "1                    2       2023-01-01         07:08:56                2   \n",
       "2                    3       2023-01-01         07:14:04                2   \n",
       "3                    4       2023-01-01         07:20:24                1   \n",
       "4                    5       2023-01-01         07:22:41                2   \n",
       "...                ...              ...              ...              ...   \n",
       "149111          149452       2023-06-30         20:18:41                2   \n",
       "149112          149453       2023-06-30         20:25:10                2   \n",
       "149113          149454       2023-06-30         20:31:34                1   \n",
       "149114          149455       2023-06-30         20:57:19                1   \n",
       "149115          149456       2023-06-30         20:57:19                2   \n",
       "\n",
       "        store_id   store_location  product_id  unit_price    product_category  \\\n",
       "0              5  Lower Manhattan          32        3.00              Coffee   \n",
       "1              5  Lower Manhattan          57        3.10                 Tea   \n",
       "2              5  Lower Manhattan          59        4.50  Drinking Chocolate   \n",
       "3              5  Lower Manhattan          22        2.00              Coffee   \n",
       "4              5  Lower Manhattan          57        3.10                 Tea   \n",
       "...          ...              ...         ...         ...                 ...   \n",
       "149111         8   Hell's Kitchen          44        2.50                 Tea   \n",
       "149112         8   Hell's Kitchen          49        3.00                 Tea   \n",
       "149113         8   Hell's Kitchen          45        3.00                 Tea   \n",
       "149114         8   Hell's Kitchen          40        3.75              Coffee   \n",
       "149115         8   Hell's Kitchen          64        0.80            Flavours   \n",
       "\n",
       "                 product_type               product_detail    month  hours  \n",
       "0       Gourmet brewed coffee                  Ethiopia Rg  January      7  \n",
       "1             Brewed Chai tea     Spicy Eye Opener Chai Lg  January      7  \n",
       "2               Hot chocolate            Dark chocolate Lg  January      7  \n",
       "3                 Drip coffee  Our Old Time Diner Blend Sm  January      7  \n",
       "4             Brewed Chai tea     Spicy Eye Opener Chai Lg  January      7  \n",
       "...                       ...                          ...      ...    ...  \n",
       "149111      Brewed herbal tea                Peppermint Rg     June     20  \n",
       "149112       Brewed Black tea         English Breakfast Lg     June     20  \n",
       "149113      Brewed herbal tea                Peppermint Lg     June     20  \n",
       "149114       Barista Espresso                   Cappuccino     June     20  \n",
       "149115          Regular syrup               Hazelnut syrup     June     20  \n",
       "\n",
       "[149116 rows x 13 columns]"
      ]
     },
     "execution_count": 13,
     "metadata": {},
     "output_type": "execute_result"
    }
   ],
   "source": [
    "data\n"
   ]
  },
  {
   "cell_type": "code",
   "execution_count": 14,
   "id": "f1a41443-ddd3-4db4-8b4e-8324c01df166",
   "metadata": {},
   "outputs": [
    {
     "data": {
      "text/plain": [
       "array(['Coffee', 'Tea', 'Drinking Chocolate', 'Bakery', 'Flavours',\n",
       "       'Loose Tea', 'Coffee beans', 'Packaged Chocolate', 'Branded'],\n",
       "      dtype=object)"
      ]
     },
     "execution_count": 14,
     "metadata": {},
     "output_type": "execute_result"
    }
   ],
   "source": [
    "data[\"product_category\"].unique()"
   ]
  },
  {
   "cell_type": "code",
   "execution_count": 15,
   "id": "c91dd104-f58b-4638-b3ac-3967d6910130",
   "metadata": {},
   "outputs": [],
   "source": [
    "data['total_price'] = data['transaction_qty'] * data['unit_price']"
   ]
  },
  {
   "cell_type": "code",
   "execution_count": 16,
   "id": "61d2f02d-66d7-4216-acbe-663b5d16f802",
   "metadata": {},
   "outputs": [
    {
     "data": {
      "text/plain": [
       "'Traditional Blend Chai Rg'"
      ]
     },
     "execution_count": 16,
     "metadata": {},
     "output_type": "execute_result"
    }
   ],
   "source": [
    "max(data['product_detail'].unique())"
   ]
  },
  {
   "cell_type": "code",
   "execution_count": 17,
   "id": "c3452d89-f491-4454-b37a-671e3c84ee24",
   "metadata": {},
   "outputs": [],
   "source": [
    "def extract_detail(detail):\n",
    "    if \"Rg\" in detail:\n",
    "        return \"Ragular\"\n",
    "    if \"Sm\" in detail:\n",
    "        return \"Small\"\n",
    "    if \"Lg\" in detail:\n",
    "        return \"Large\"\n",
    "    else:\n",
    "        return \"medium\"\n",
    "data['Size'] = data['product_detail'].apply(extract_detail)        \n",
    "        "
   ]
  },
  {
   "cell_type": "code",
   "execution_count": 18,
   "id": "bb67debe-d56b-4ee6-a521-25ed0345edcf",
   "metadata": {},
   "outputs": [],
   "source": [
    "def extract_detail(detail):\n",
    "    if isinstance(detail,str):\n",
    "        for size in [\" Rg\",\" Lg\",\" Sm\"]:\n",
    "            detail = detail.replace(size,\"\")\n",
    "    return detail\n",
    "data['product_detail'] = data['product_detail'].apply(extract_detail) "
   ]
  },
  {
   "cell_type": "code",
   "execution_count": 19,
   "id": "68b183ee-bfe9-4ed2-8359-84f148dcbf0c",
   "metadata": {},
   "outputs": [
    {
     "data": {
      "text/html": [
       "<div>\n",
       "<style scoped>\n",
       "    .dataframe tbody tr th:only-of-type {\n",
       "        vertical-align: middle;\n",
       "    }\n",
       "\n",
       "    .dataframe tbody tr th {\n",
       "        vertical-align: top;\n",
       "    }\n",
       "\n",
       "    .dataframe thead th {\n",
       "        text-align: right;\n",
       "    }\n",
       "</style>\n",
       "<table border=\"1\" class=\"dataframe\">\n",
       "  <thead>\n",
       "    <tr style=\"text-align: right;\">\n",
       "      <th></th>\n",
       "      <th>transaction_id</th>\n",
       "      <th>transaction_date</th>\n",
       "      <th>transaction_time</th>\n",
       "      <th>transaction_qty</th>\n",
       "      <th>store_id</th>\n",
       "      <th>store_location</th>\n",
       "      <th>product_id</th>\n",
       "      <th>unit_price</th>\n",
       "      <th>product_category</th>\n",
       "      <th>product_type</th>\n",
       "      <th>product_detail</th>\n",
       "      <th>month</th>\n",
       "      <th>hours</th>\n",
       "      <th>total_price</th>\n",
       "      <th>Size</th>\n",
       "    </tr>\n",
       "  </thead>\n",
       "  <tbody>\n",
       "    <tr>\n",
       "      <th>0</th>\n",
       "      <td>1</td>\n",
       "      <td>2023-01-01</td>\n",
       "      <td>07:06:11</td>\n",
       "      <td>2</td>\n",
       "      <td>5</td>\n",
       "      <td>Lower Manhattan</td>\n",
       "      <td>32</td>\n",
       "      <td>3.00</td>\n",
       "      <td>Coffee</td>\n",
       "      <td>Gourmet brewed coffee</td>\n",
       "      <td>Ethiopia</td>\n",
       "      <td>January</td>\n",
       "      <td>7</td>\n",
       "      <td>6.00</td>\n",
       "      <td>Ragular</td>\n",
       "    </tr>\n",
       "    <tr>\n",
       "      <th>1</th>\n",
       "      <td>2</td>\n",
       "      <td>2023-01-01</td>\n",
       "      <td>07:08:56</td>\n",
       "      <td>2</td>\n",
       "      <td>5</td>\n",
       "      <td>Lower Manhattan</td>\n",
       "      <td>57</td>\n",
       "      <td>3.10</td>\n",
       "      <td>Tea</td>\n",
       "      <td>Brewed Chai tea</td>\n",
       "      <td>Spicy Eye Opener Chai</td>\n",
       "      <td>January</td>\n",
       "      <td>7</td>\n",
       "      <td>6.20</td>\n",
       "      <td>Large</td>\n",
       "    </tr>\n",
       "    <tr>\n",
       "      <th>2</th>\n",
       "      <td>3</td>\n",
       "      <td>2023-01-01</td>\n",
       "      <td>07:14:04</td>\n",
       "      <td>2</td>\n",
       "      <td>5</td>\n",
       "      <td>Lower Manhattan</td>\n",
       "      <td>59</td>\n",
       "      <td>4.50</td>\n",
       "      <td>Drinking Chocolate</td>\n",
       "      <td>Hot chocolate</td>\n",
       "      <td>Dark chocolate</td>\n",
       "      <td>January</td>\n",
       "      <td>7</td>\n",
       "      <td>9.00</td>\n",
       "      <td>Large</td>\n",
       "    </tr>\n",
       "    <tr>\n",
       "      <th>3</th>\n",
       "      <td>4</td>\n",
       "      <td>2023-01-01</td>\n",
       "      <td>07:20:24</td>\n",
       "      <td>1</td>\n",
       "      <td>5</td>\n",
       "      <td>Lower Manhattan</td>\n",
       "      <td>22</td>\n",
       "      <td>2.00</td>\n",
       "      <td>Coffee</td>\n",
       "      <td>Drip coffee</td>\n",
       "      <td>Our Old Time Diner Blend</td>\n",
       "      <td>January</td>\n",
       "      <td>7</td>\n",
       "      <td>2.00</td>\n",
       "      <td>Small</td>\n",
       "    </tr>\n",
       "    <tr>\n",
       "      <th>4</th>\n",
       "      <td>5</td>\n",
       "      <td>2023-01-01</td>\n",
       "      <td>07:22:41</td>\n",
       "      <td>2</td>\n",
       "      <td>5</td>\n",
       "      <td>Lower Manhattan</td>\n",
       "      <td>57</td>\n",
       "      <td>3.10</td>\n",
       "      <td>Tea</td>\n",
       "      <td>Brewed Chai tea</td>\n",
       "      <td>Spicy Eye Opener Chai</td>\n",
       "      <td>January</td>\n",
       "      <td>7</td>\n",
       "      <td>6.20</td>\n",
       "      <td>Large</td>\n",
       "    </tr>\n",
       "    <tr>\n",
       "      <th>...</th>\n",
       "      <td>...</td>\n",
       "      <td>...</td>\n",
       "      <td>...</td>\n",
       "      <td>...</td>\n",
       "      <td>...</td>\n",
       "      <td>...</td>\n",
       "      <td>...</td>\n",
       "      <td>...</td>\n",
       "      <td>...</td>\n",
       "      <td>...</td>\n",
       "      <td>...</td>\n",
       "      <td>...</td>\n",
       "      <td>...</td>\n",
       "      <td>...</td>\n",
       "      <td>...</td>\n",
       "    </tr>\n",
       "    <tr>\n",
       "      <th>149111</th>\n",
       "      <td>149452</td>\n",
       "      <td>2023-06-30</td>\n",
       "      <td>20:18:41</td>\n",
       "      <td>2</td>\n",
       "      <td>8</td>\n",
       "      <td>Hell's Kitchen</td>\n",
       "      <td>44</td>\n",
       "      <td>2.50</td>\n",
       "      <td>Tea</td>\n",
       "      <td>Brewed herbal tea</td>\n",
       "      <td>Peppermint</td>\n",
       "      <td>June</td>\n",
       "      <td>20</td>\n",
       "      <td>5.00</td>\n",
       "      <td>Ragular</td>\n",
       "    </tr>\n",
       "    <tr>\n",
       "      <th>149112</th>\n",
       "      <td>149453</td>\n",
       "      <td>2023-06-30</td>\n",
       "      <td>20:25:10</td>\n",
       "      <td>2</td>\n",
       "      <td>8</td>\n",
       "      <td>Hell's Kitchen</td>\n",
       "      <td>49</td>\n",
       "      <td>3.00</td>\n",
       "      <td>Tea</td>\n",
       "      <td>Brewed Black tea</td>\n",
       "      <td>English Breakfast</td>\n",
       "      <td>June</td>\n",
       "      <td>20</td>\n",
       "      <td>6.00</td>\n",
       "      <td>Large</td>\n",
       "    </tr>\n",
       "    <tr>\n",
       "      <th>149113</th>\n",
       "      <td>149454</td>\n",
       "      <td>2023-06-30</td>\n",
       "      <td>20:31:34</td>\n",
       "      <td>1</td>\n",
       "      <td>8</td>\n",
       "      <td>Hell's Kitchen</td>\n",
       "      <td>45</td>\n",
       "      <td>3.00</td>\n",
       "      <td>Tea</td>\n",
       "      <td>Brewed herbal tea</td>\n",
       "      <td>Peppermint</td>\n",
       "      <td>June</td>\n",
       "      <td>20</td>\n",
       "      <td>3.00</td>\n",
       "      <td>Large</td>\n",
       "    </tr>\n",
       "    <tr>\n",
       "      <th>149114</th>\n",
       "      <td>149455</td>\n",
       "      <td>2023-06-30</td>\n",
       "      <td>20:57:19</td>\n",
       "      <td>1</td>\n",
       "      <td>8</td>\n",
       "      <td>Hell's Kitchen</td>\n",
       "      <td>40</td>\n",
       "      <td>3.75</td>\n",
       "      <td>Coffee</td>\n",
       "      <td>Barista Espresso</td>\n",
       "      <td>Cappuccino</td>\n",
       "      <td>June</td>\n",
       "      <td>20</td>\n",
       "      <td>3.75</td>\n",
       "      <td>medium</td>\n",
       "    </tr>\n",
       "    <tr>\n",
       "      <th>149115</th>\n",
       "      <td>149456</td>\n",
       "      <td>2023-06-30</td>\n",
       "      <td>20:57:19</td>\n",
       "      <td>2</td>\n",
       "      <td>8</td>\n",
       "      <td>Hell's Kitchen</td>\n",
       "      <td>64</td>\n",
       "      <td>0.80</td>\n",
       "      <td>Flavours</td>\n",
       "      <td>Regular syrup</td>\n",
       "      <td>Hazelnut syrup</td>\n",
       "      <td>June</td>\n",
       "      <td>20</td>\n",
       "      <td>1.60</td>\n",
       "      <td>medium</td>\n",
       "    </tr>\n",
       "  </tbody>\n",
       "</table>\n",
       "<p>149116 rows × 15 columns</p>\n",
       "</div>"
      ],
      "text/plain": [
       "        transaction_id transaction_date transaction_time  transaction_qty  \\\n",
       "0                    1       2023-01-01         07:06:11                2   \n",
       "1                    2       2023-01-01         07:08:56                2   \n",
       "2                    3       2023-01-01         07:14:04                2   \n",
       "3                    4       2023-01-01         07:20:24                1   \n",
       "4                    5       2023-01-01         07:22:41                2   \n",
       "...                ...              ...              ...              ...   \n",
       "149111          149452       2023-06-30         20:18:41                2   \n",
       "149112          149453       2023-06-30         20:25:10                2   \n",
       "149113          149454       2023-06-30         20:31:34                1   \n",
       "149114          149455       2023-06-30         20:57:19                1   \n",
       "149115          149456       2023-06-30         20:57:19                2   \n",
       "\n",
       "        store_id   store_location  product_id  unit_price    product_category  \\\n",
       "0              5  Lower Manhattan          32        3.00              Coffee   \n",
       "1              5  Lower Manhattan          57        3.10                 Tea   \n",
       "2              5  Lower Manhattan          59        4.50  Drinking Chocolate   \n",
       "3              5  Lower Manhattan          22        2.00              Coffee   \n",
       "4              5  Lower Manhattan          57        3.10                 Tea   \n",
       "...          ...              ...         ...         ...                 ...   \n",
       "149111         8   Hell's Kitchen          44        2.50                 Tea   \n",
       "149112         8   Hell's Kitchen          49        3.00                 Tea   \n",
       "149113         8   Hell's Kitchen          45        3.00                 Tea   \n",
       "149114         8   Hell's Kitchen          40        3.75              Coffee   \n",
       "149115         8   Hell's Kitchen          64        0.80            Flavours   \n",
       "\n",
       "                 product_type            product_detail    month  hours  \\\n",
       "0       Gourmet brewed coffee                  Ethiopia  January      7   \n",
       "1             Brewed Chai tea     Spicy Eye Opener Chai  January      7   \n",
       "2               Hot chocolate            Dark chocolate  January      7   \n",
       "3                 Drip coffee  Our Old Time Diner Blend  January      7   \n",
       "4             Brewed Chai tea     Spicy Eye Opener Chai  January      7   \n",
       "...                       ...                       ...      ...    ...   \n",
       "149111      Brewed herbal tea                Peppermint     June     20   \n",
       "149112       Brewed Black tea         English Breakfast     June     20   \n",
       "149113      Brewed herbal tea                Peppermint     June     20   \n",
       "149114       Barista Espresso                Cappuccino     June     20   \n",
       "149115          Regular syrup            Hazelnut syrup     June     20   \n",
       "\n",
       "        total_price     Size  \n",
       "0              6.00  Ragular  \n",
       "1              6.20    Large  \n",
       "2              9.00    Large  \n",
       "3              2.00    Small  \n",
       "4              6.20    Large  \n",
       "...             ...      ...  \n",
       "149111         5.00  Ragular  \n",
       "149112         6.00    Large  \n",
       "149113         3.00    Large  \n",
       "149114         3.75   medium  \n",
       "149115         1.60   medium  \n",
       "\n",
       "[149116 rows x 15 columns]"
      ]
     },
     "execution_count": 19,
     "metadata": {},
     "output_type": "execute_result"
    }
   ],
   "source": [
    "data"
   ]
  },
  {
   "cell_type": "markdown",
   "id": "a80a8ad5-56de-4067-b1cd-3613222831f7",
   "metadata": {},
   "source": [
    "# remove unwvanted space"
   ]
  },
  {
   "cell_type": "code",
   "execution_count": 20,
   "id": "3371e091-83ac-4422-9fd3-7d43227c7627",
   "metadata": {},
   "outputs": [],
   "source": [
    "data[\"product_detail\"] = data[\"product_detail\"].str.strip()"
   ]
  },
  {
   "cell_type": "markdown",
   "id": "30f0b2da-c72a-4c98-980a-eba797c6d6af",
   "metadata": {},
   "source": [
    "# oure data is clean an now visulization processed by only matplotlib libaray"
   ]
  },
  {
   "cell_type": "code",
   "execution_count": 21,
   "id": "0ba04163-4a7b-414e-a29a-259bfc5bb26f",
   "metadata": {},
   "outputs": [],
   "source": [
    "import seaborn as sns"
   ]
  },
  {
   "cell_type": "code",
   "execution_count": 22,
   "id": "3ffe46ad-2c21-40f8-9623-f18cdcb4e932",
   "metadata": {},
   "outputs": [
    {
     "data": {
      "image/png": "[encoded data removed]",
      "text/plain": [
       "<Figure size 640x480 with 1 Axes>"
      ]
     },
     "metadata": {},
     "output_type": "display_data"
    }
   ],
   "source": [
    "sns.lineplot(x = \"hours\" ,y = \"transaction_qty\", data = data,marker = \"o\")\n",
    "plt.show()"
   ]
  },
  {
   "cell_type": "code",
   "execution_count": 23,
   "id": "69040c5e-5908-450c-a759-f95bf84ab8d8",
   "metadata": {},
   "outputs": [],
   "source": [
    "df=data.groupby(\"product_category\")['total_price'].sum()"
   ]
  },
  {
   "cell_type": "code",
   "execution_count": 24,
   "id": "f33ab04e-194d-48b5-adfb-c7eebd4340c2",
   "metadata": {},
   "outputs": [
    {
     "data": {
      "text/plain": [
       "product_category\n",
       "Bakery                 82315.64\n",
       "Branded                13607.00\n",
       "Coffee                269952.45\n",
       "Coffee beans           40085.25\n",
       "Drinking Chocolate     72416.00\n",
       "Flavours                8408.80\n",
       "Loose Tea              11213.60\n",
       "Packaged Chocolate      4407.64\n",
       "Tea                   196405.95\n",
       "Name: total_price, dtype: float64"
      ]
     },
     "execution_count": 24,
     "metadata": {},
     "output_type": "execute_result"
    }
   ],
   "source": [
    "df"
   ]
  },
  {
   "cell_type": "code",
   "execution_count": 25,
   "id": "e07f7be2-9279-4340-92c4-208b3810e150",
   "metadata": {},
   "outputs": [
    {
     "data": {
      "image/png": "[encoded data removed]",
      "text/plain": [
       "<Figure size 640x480 with 1 Axes>"
      ]
     },
     "metadata": {},
     "output_type": "display_data"
    }
   ],
   "source": [
    "explode = [0, 0, 0.05, 0, 0,0,0,0,0.05]\n",
    "plt.pie(x =df, labels = None,explode = explode,autopct='%.0f%%',pctdistance=1.2,shadow= True )\n",
    "plt.legend( df.index, loc=\"upper right\", bbox_to_anchor=(1.7, 0.8), fontsize=10)\n",
    "#plt.legend(loc=\"upper right\", bbox_to_anchor=(1.7, .8), fontsize=10)\n",
    "\n",
    "plt.title(\"Catogries % Distribution Based on Seals\")\n",
    "plt.show()"
   ]
  },
  {
   "cell_type": "code",
   "execution_count": 26,
   "id": "b8307d2c-e7bb-4d89-8cff-3b360cf15d28",
   "metadata": {},
   "outputs": [],
   "source": [
    "data_f = data.groupby(\"Size\")['product_id'].count()"
   ]
  },
  {
   "cell_type": "code",
   "execution_count": 27,
   "id": "360c8e8d-a958-4ca2-ae95-0ee57903994f",
   "metadata": {},
   "outputs": [
    {
     "data": {
      "text/plain": [
       "Size\n",
       "Large      44885\n",
       "Ragular    45789\n",
       "Small      13924\n",
       "medium     44518\n",
       "Name: product_id, dtype: int64"
      ]
     },
     "execution_count": 27,
     "metadata": {},
     "output_type": "execute_result"
    }
   ],
   "source": [
    "data_f"
   ]
  },
  {
   "cell_type": "code",
   "execution_count": 28,
   "id": "c8d68328-9859-47d2-a427-58bbfa1a7908",
   "metadata": {},
   "outputs": [
    {
     "data": {
      "image/png": "[encoded data removed]",
      "text/plain": [
       "<Figure size 640x480 with 1 Axes>"
      ]
     },
     "metadata": {},
     "output_type": "display_data"
    }
   ],
   "source": [
    "explode = [0,0.03,0,0]\n",
    "plt.pie(x=data_f,labels = data_f.index,explode =explode,autopct = \"%.0f%%\",shadow =True)\n",
    "plt.legend(loc=\"upper right\",bbox_to_anchor =(1.3,1) )\n",
    "plt.title(\"% Size based on order\")\n",
    "plt.show()"
   ]
  },
  {
   "cell_type": "code",
   "execution_count": 29,
   "id": "e8710de7-3489-4555-9f36-ac15a3b9efc7",
   "metadata": {},
   "outputs": [],
   "source": [
    "amount = data.groupby('store_location')[\"total_price\"].sum()"
   ]
  },
  {
   "cell_type": "code",
   "execution_count": 30,
   "id": "3670d530-6313-4081-a7a2-e6089655f07e",
   "metadata": {},
   "outputs": [],
   "source": [
    "sops = data.groupby(\"store_location\")[\"product_id\"].count()"
   ]
  },
  {
   "cell_type": "code",
   "execution_count": 31,
   "id": "73451d52-ffc3-43b5-9687-55ce62424b13",
   "metadata": {},
   "outputs": [
    {
     "data": {
      "text/plain": [
       "store_location\n",
       "Astoria            50599\n",
       "Hell's Kitchen     50735\n",
       "Lower Manhattan    47782\n",
       "Name: product_id, dtype: int64"
      ]
     },
     "execution_count": 31,
     "metadata": {},
     "output_type": "execute_result"
    }
   ],
   "source": [
    "sops"
   ]
  },
  {
   "cell_type": "code",
   "execution_count": 32,
   "id": "9c02b5fc-5a17-4346-944c-206860005945",
   "metadata": {},
   "outputs": [
    {
     "data": {
      "text/plain": [
       "store_location\n",
       "Astoria            232243.91\n",
       "Hell's Kitchen     236511.17\n",
       "Lower Manhattan    230057.25\n",
       "Name: total_price, dtype: float64"
      ]
     },
     "execution_count": 32,
     "metadata": {},
     "output_type": "execute_result"
    }
   ],
   "source": [
    "amount"
   ]
  },
  {
   "cell_type": "code",
   "execution_count": null,
   "id": "12296197-2968-4cf0-b9ac-54713c84951d",
   "metadata": {},
   "outputs": [],
   "source": []
  },
  {
   "cell_type": "code",
   "execution_count": 108,
   "id": "4bf7e46f-6152-4d4d-adb8-45355f840880",
   "metadata": {},
   "outputs": [
    {
     "data": {
      "image/png": "[encoded data removed]",
      "text/plain": [
       "<Figure size 700x500 with 1 Axes>"
      ]
     },
     "metadata": {},
     "output_type": "display_data"
    }
   ],
   "source": [
    "bar_width = 0.3\n",
    "x = np.arange(len(amount.index))\n",
    "plt.figure(figsize=(7, 5))\n",
    "plt.bar(x + bar_width/2, amount.values, width=.3, label=\"Total Sales\", color='green')\n",
    "plt.bar(x - bar_width/2, sops.values,width =.3,label = \"number of customer\",color ='red')\n",
    "plt.xticks(x, amount.index)\n",
    "plt.title(\"Footfall and Seals over various stores\")\n",
    "plt.xlabel(\"Store Location\")\n",
    "plt.ylabel(\"amount and seals\")\n",
    "plt.legend(bbox_to_anchor= (1,0.8))\n",
    "\n",
    "plt.show()"
   ]
  },
  {
   "cell_type": "code",
   "execution_count": 36,
   "id": "7231985b-df73-487a-bdbf-98373d4cf3db",
   "metadata": {},
   "outputs": [],
   "source": [
    "ddf = data.groupby(\"product_type\")[\"total_price\"].sum()"
   ]
  },
  {
   "cell_type": "code",
   "execution_count": 39,
   "id": "759923b9-ef88-4b0e-98b6-27b8c65111f0",
   "metadata": {},
   "outputs": [],
   "source": [
    "sort_ddf = ddf.sort_values(ascending =False)"
   ]
  },
  {
   "cell_type": "code",
   "execution_count": 42,
   "id": "48bab135-2977-48fc-a1ef-27c8cd0e755a",
   "metadata": {},
   "outputs": [],
   "source": [
    "p_type=sort_ddf.head(5)"
   ]
  },
  {
   "cell_type": "code",
   "execution_count": 106,
   "id": "31db03a4-57fb-4e17-b89d-ee7a659d7d6d",
   "metadata": {},
   "outputs": [
    {
     "data": {
      "image/png": "[encoded data removed]",
      "text/plain": [
       "<Figure size 640x480 with 1 Axes>"
      ]
     },
     "metadata": {},
     "output_type": "display_data"
    }
   ],
   "source": [
    "plt.bar(x=p_type.index,height =p_type.values,width = .5)\n",
    "plt.xlabel(\"Best 5 product\")\n",
    "plt.ylabel(\"seals\")\n",
    "plt.title(\"Top 5 Product Based Sealse\")\n",
    "plt.xticks(rotation=45)\n",
    "plt.show()"
   ]
  },
  {
   "cell_type": "code",
   "execution_count": 82,
   "id": "14c2befb-754b-4df2-b0ef-d2d2f45d044a",
   "metadata": {},
   "outputs": [],
   "source": [
    "week = data.groupby(\"day\")['total_price'].sum()"
   ]
  },
  {
   "cell_type": "code",
   "execution_count": 84,
   "id": "56bfe50c-080c-436c-b390-10407b6580a3",
   "metadata": {},
   "outputs": [],
   "source": [
    "order = data.groupby(\"day\")['product_id'].count()"
   ]
  },
  {
   "cell_type": "code",
   "execution_count": 109,
   "id": "d57b9ce5-0536-40b7-b8d7-5115245ba5b5",
   "metadata": {},
   "outputs": [
    {
     "data": {
      "image/png": "[encoded data removed]",
      "text/plain": [
       "<Figure size 640x480 with 1 Axes>"
      ]
     },
     "metadata": {},
     "output_type": "display_data"
    }
   ],
   "source": [
    "x = np.arange(len(week))\n",
    "width_p=0.4\n",
    "plt.bar(x+width_p/2,week.values,width =.4,label= \"days\")\n",
    "plt.bar(x-width_p/2,order.values,width =0.4,label = \"price\")\n",
    "plt.xticks(x, week.index, rotation=45) \n",
    "plt.xlabel(\"Week day\")\n",
    "plt.ylabel(\"Amount\")\n",
    "plt.title(\"weekend based sealse\")\n",
    "plt.legend()\n",
    "plt.show()"
   ]
  },
  {
   "cell_type": "code",
   "execution_count": null,
   "id": "08136a48-7d21-4730-a557-6fe3dcdca5ba",
   "metadata": {},
   "outputs": [],
   "source": []
  }
 ],
 "metadata": {
  "kernelspec": {
   "display_name": "Python 3 (ipykernel)",
   "language": "python",
   "name": "python3"
  },
  "language_info": {
   "codemirror_mode": {
    "name": "ipython",
    "version": 3
   },
   "file_extension": ".py",
   "mimetype": "text/x-python",
   "name": "python",
   "nbconvert_exporter": "python",
   "pygments_lexer": "ipython3",
   "version": "3.13.0"
  }
 },
 "nbformat": 4,
 "nbformat_minor": 5
}
